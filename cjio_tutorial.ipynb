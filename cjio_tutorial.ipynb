{
 "cells": [
  {
   "cell_type": "markdown",
   "metadata": {
    "slideshow": {
     "slide_type": "slide"
    }
   },
   "source": [
    "# Working with 3D city models in Python\n",
    "\n",
    "**Balázs Dukai**\n",
    "\n",
    "[*@BalazsDukai*](https://twitter.com/balazsdukai)\n",
    "\n",
    "[3D geoinformation research group, TU Delft, Netherlands](https://3d.bk.tudelft.nl/)\n",
    "\n",
    "GeoPython 2019"
   ]
  },
  {
   "cell_type": "markdown",
   "metadata": {
    "slideshow": {
     "slide_type": "slide"
    }
   },
   "source": [
    "# Why 3D city models?\n",
    "\n",
    "![3d city model applications](figures/3d_cm_applications.png)"
   ]
  },
  {
   "cell_type": "markdown",
   "metadata": {
    "slideshow": {
     "slide_type": "subslide"
    }
   },
   "source": [
    "# But in practice...\n",
    "\n",
    "+ not many software supports 3D city models\n",
    "\n",
    "+ if they do, mostly propietary data model and format\n",
    "\n",
    "+ large, *\"eterprise\"*-type applications (think Esri, FME, Bentley ... )\n",
    "\n",
    "+ few tools accessible for the individual developer / hobbyist"
   ]
  },
  {
   "cell_type": "markdown",
   "metadata": {
    "slideshow": {
     "slide_type": "fragment"
    }
   },
   "source": [
    "<span style=\"color:red\">Participate in our benchmark:</span> https://3d.bk.tudelft.nl/projects/geobim-benchmark/"
   ]
  },
  {
   "cell_type": "markdown",
   "metadata": {
    "slideshow": {
     "slide_type": "subslide"
    }
   },
   "source": [
    "# ...mostly just production of the models"
   ]
  },
  {
   "cell_type": "markdown",
   "metadata": {
    "slideshow": {
     "slide_type": "fragment"
    }
   },
   "source": [
    "many available, but who **uses** them? **For more than visualisation?**\n",
    "\n",
    "![open 3d city models](figures/open_cms.png)"
   ]
  },
  {
   "cell_type": "markdown",
   "metadata": {
    "slideshow": {
     "slide_type": "subslide"
    }
   },
   "source": [
    "# In truth, they are a bit difficult to work with"
   ]
  },
  {
   "cell_type": "markdown",
   "metadata": {
    "slideshow": {
     "slide_type": "fragment"
    }
   },
   "source": [
    "1. our built environment is complex"
   ]
  },
  {
   "cell_type": "markdown",
   "metadata": {
    "slideshow": {
     "slide_type": "fragment"
    }
   },
   "source": [
    "2. GML doesn't help ( *[GML madness](http://erouault.blogspot.com/2014/04/gml-madness.html) by Even Rouault* )"
   ]
  },
  {
   "cell_type": "markdown",
   "metadata": {
    "slideshow": {
     "slide_type": "slide"
    }
   },
   "source": [
    "# Why GML?"
   ]
  },
  {
   "cell_type": "markdown",
   "metadata": {
    "slideshow": {
     "slide_type": "fragment"
    }
   },
   "source": [
    "![citygml logo](figures/citygml.png)"
   ]
  },
  {
   "cell_type": "markdown",
   "metadata": {
    "slideshow": {
     "slide_type": "subslide"
    }
   },
   "source": [
    "## CityGML is a bit complicated"
   ]
  },
  {
   "cell_type": "markdown",
   "metadata": {
    "slideshow": {
     "slide_type": "fragment"
    }
   },
   "source": [
    "... include CityGML UML Gif ..."
   ]
  },
  {
   "cell_type": "markdown",
   "metadata": {
    "slideshow": {
     "slide_type": "slide"
    }
   },
   "source": [
    "![cityjson logo](figures/cityjson_webpage.png)"
   ]
  },
  {
   "cell_type": "markdown",
   "metadata": {
    "slideshow": {
     "slide_type": "subslide"
    }
   },
   "source": [
    "## CiyJSON aims to be "
   ]
  },
  {
   "cell_type": "markdown",
   "metadata": {
    "slideshow": {
     "slide_type": "fragment"
    }
   },
   "source": [
    "*simple*, as in easy to implement"
   ]
  },
  {
   "cell_type": "markdown",
   "metadata": {
    "slideshow": {
     "slide_type": "fragment"
    }
   },
   "source": [
    "designed with programmers in mind"
   ]
  },
  {
   "cell_type": "markdown",
   "metadata": {
    "slideshow": {
     "slide_type": "fragment"
    }
   },
   "source": [
    "fully developed in the open"
   ]
  },
  {
   "cell_type": "markdown",
   "metadata": {},
   "source": [
    "![GitHub Issues](figures/github_issues.png)"
   ]
  },
  {
   "cell_type": "markdown",
   "metadata": {
    "slideshow": {
     "slide_type": "subslide"
    }
   },
   "source": [
    "## Compression\n",
    "| file     | CityGML size (original) | CityGML size (w/o spaces) | textures | CityJSON | compression |\n",
    "| -------- | ----------------------- | ----------------------------- |--------- | ------------ | --------------- | \n",
    "| [CityGML demo \"GeoRes\"](https://www.citygml.org/samplefiles/) | 4.3MB | 4.1MB | yes | 524KB | 8.0 |\n",
    "| [CityGML v2 demo \"Railway\"](https://www.citygml.org/samplefiles/) | 45MB | 34MB | yes | 4.3MB | 8.1 |\n",
    "| [Den Haag \"tile 01\"](https://data.overheid.nl/data/dataset/ngr-3d-model-den-haag) | 23MB | 18MB | no, material | 2.9MB | 6.2 |\n",
    "| [Montréal VM05](http://donnees.ville.montreal.qc.ca/dataset/maquette-numerique-batiments-citygml-lod2-avec-textures/resource/36047113-aa19-4462-854a-cdcd6281a5af) | 56MB | 42MB | yes | 5.4MB | 7.8 |\n",
    "| [New York LoD2 (DA13)](https://www1.nyc.gov/site/doitt/initiatives/3d-building.page) | 590MB | 574MB | no | 105MB | 5.5 |\n",
    "| [Rotterdam Delfshaven](http://rotterdamopendata.nl/dataset/rotterdam-3d-bestanden/resource/edacea54-76ce-41c7-a0cc-2ebe5750ac18) | 16MB | 15MB | yes | 2.6MB | 5.8 |\n",
    "| [Vienna (the demo file)](https://www.data.gv.at/katalog/dataset/86d88cae-ad97-4476-bae5-73488a12776d) | 37MB | 36MB | no |  5.3MB | 6.8 |\n",
    "| [Zürich LoD2](https://www.data.gv.at/katalog/dataset/86d88cae-ad97-4476-bae5-73488a12776d) | 3.03GB | 2.07GB | no |  292MB | 7.1 |"
   ]
  },
  {
   "cell_type": "markdown",
   "metadata": {
    "slideshow": {
     "slide_type": "fragment"
    }
   },
   "source": [
    "we changed a few bits in CityGML, mainly to flatten the hierarchy"
   ]
  },
  {
   "cell_type": "markdown",
   "metadata": {
    "slideshow": {
     "slide_type": "subslide"
    }
   },
   "source": [
    "![standards](figures/standards.png)\n",
    "\n",
    "[https://xkcd.com/927/](https://xkcd.com/927/)"
   ]
  },
  {
   "cell_type": "markdown",
   "metadata": {
    "slideshow": {
     "slide_type": "subslide"
    }
   },
   "source": [
    "## An empty CityJSON\n",
    "```json\n",
    "{\n",
    "  \"type\": \"CityJSON\",\n",
    "  \"version\": \"1.0\",\n",
    "  \"extensions\": {},\n",
    "  \"metadata\": {},\n",
    "  \"transform\": {\n",
    "    \"scale\": [],\n",
    "    \"translate\": []\n",
    "  },\n",
    "    \n",
    "  \"CityObjects\": {},          // <-- the object definitions \n",
    "    \n",
    "  \"vertices\": [],             // <-- vertex list at the root of the document\n",
    "    \n",
    "  \"appearance\": {},\n",
    "  \"geometry-templates\": {}\n",
    "}\n",
    "```"
   ]
  },
  {
   "cell_type": "markdown",
   "metadata": {
    "slideshow": {
     "slide_type": "subslide"
    }
   },
   "source": [
    "## A CityObject\n",
    "\n",
    "```json\n",
    "{\n",
    "    \"CityObjects\": {\n",
    "        \n",
    "      \"id-1\": {\n",
    "        \"type\": \"Building\",\n",
    "        \"geographicalExtent\": [ 84710.1, 446846.0, -5.3, 84757.1, 446944.0, 40.9 ], \n",
    "        \"attributes\": { \n",
    "          \"measuredHeight\": 22.3,\n",
    "          \"roofType\": \"gable\",\n",
    "          \"owner\": \"Elvis Presley\"\n",
    "        },\n",
    "          \n",
    "        \"children\": [\"id-2\"],        // <-- hierarchy of objects\n",
    "          \n",
    "        \"geometry\": [{   }]          // <-- geometry definitions\n",
    "      }\n",
    "    }\n",
    "    \n",
    "}\n",
    "```"
   ]
  },
  {
   "cell_type": "markdown",
   "metadata": {
    "slideshow": {
     "slide_type": "subslide"
    }
   },
   "source": [
    "## Geometry\n",
    "\n",
    "Inspired by Wavefront OBJ\n",
    "\n",
    "We have a vertex list at the root of the document\n",
    "\n",
    "```json\n",
    "{\n",
    "    \n",
    "\"vertices\": [\n",
    "  [0.0, 0.0, 0.0],\n",
    "  [1.0, 0.0, 0.0],\n",
    "  [0.0, 0.0, 0.0],\n",
    "  [1.0, 0.0, 0.0],\n",
    "  [8523.134, 487625.134, 2.03]\n",
    "]\n",
    "    \n",
    "}\n",
    "```"
   ]
  },
  {
   "cell_type": "markdown",
   "metadata": {
    "slideshow": {
     "slide_type": "subslide"
    }
   },
   "source": [
    "The geometry definition uses vertex indices\n",
    "\n",
    "First vertex is not repeated (unlike in Simple Features)\n",
    "\n",
    "```json\n",
    "{\n",
    "  \"type\": \"MultiSurface\",\n",
    "  \"lod\": 2,\n",
    "  \"boundaries\": [\n",
    "    [[0, 3, 2, 1]], [[4, 5, 6, 7]], [[0, 1, 5, 4]]\n",
    "  ]\n",
    "}\n",
    "```"
   ]
  },
  {
   "cell_type": "markdown",
   "metadata": {},
   "source": [
    "This `MulitSurface` has \n",
    "\n",
    "3 surfaces \n",
    "```json\n",
    "[[0, 3, 2, 1]], [[4, 5, 6, 7]], [[0, 1, 5, 4]]\n",
    "```\n",
    "each surface has only an exterior ring (the first array)\n",
    "```json\n",
    "[ [0, 3, 2, 1] ]\n",
    "```"
   ]
  },
  {
   "cell_type": "markdown",
   "metadata": {
    "slideshow": {
     "slide_type": "subslide"
    }
   },
   "source": [
    "### Geometry semantics\n",
    "\n",
    "```json\n",
    "{\n",
    "  \"type\": \"MultiSurface\",\n",
    "  \"lod\": 2,\n",
    "    \n",
    "  \"boundaries\": [\n",
    "    [[0, 3, 2, 1]], [[4, 5, 6, 7]], [[0, 1, 5, 4]], [[0, 2, 3, 8]], [[10, 12, 23, 48]]\n",
    "  ],\n",
    "    \n",
    "    \n",
    "  \"semantics\": {\n",
    "    \"surfaces\" : [\n",
    "      {\n",
    "        \"type\": \"WallSurface\",\n",
    "        \"slope\": 33.4,\n",
    "        \"children\": [2]\n",
    "      }, \n",
    "      {\n",
    "        \"type\": \"RoofSurface\",\n",
    "        \"slope\": 66.6\n",
    "      }\n",
    "    ],\n",
    "    \"values\": [0, 0, null, 1, 2]\n",
    "  }\n",
    "    \n",
    "}\n",
    "```"
   ]
  },
  {
   "cell_type": "markdown",
   "metadata": {
    "slideshow": {
     "slide_type": "slide"
    }
   },
   "source": [
    "![cjio](figures/cjio_docs.png)"
   ]
  },
  {
   "cell_type": "markdown",
   "metadata": {
    "slideshow": {
     "slide_type": "notes"
    }
   },
   "source": [
    "**cjio** is how *we eat what we cook*\n",
    "\n",
    "Aims to help to actually work with and analyse 3D city models, and extract more value from them. Instead of letting them gather dust in some governmental repository."
   ]
  },
  {
   "cell_type": "markdown",
   "metadata": {
    "slideshow": {
     "slide_type": "subslide"
    }
   },
   "source": [
    "## `cjio` has a (quite) stable CLI\n",
    "\n",
    "```bash\n",
    "$ cjio city_model.json reproject 2056 export --format glb /out/model.glb\n",
    "```"
   ]
  },
  {
   "cell_type": "markdown",
   "metadata": {
    "slideshow": {
     "slide_type": "fragment"
    }
   },
   "source": [
    "## and an experimental API\n",
    "\n",
    "```python\n",
    "from cjio import cityjson\n",
    "cm = cityjson.load('city_model.json')\n",
    "cm.get_cityobjects(type'building')\n",
    "```"
   ]
  },
  {
   "cell_type": "markdown",
   "metadata": {
    "slideshow": {
     "slide_type": "slide"
    }
   },
   "source": [
    "# `cjio`'s CLI"
   ]
  },
  {
   "cell_type": "code",
   "execution_count": 3,
   "metadata": {
    "slideshow": {
     "slide_type": "subslide"
    }
   },
   "outputs": [
    {
     "name": "stdout",
     "output_type": "stream",
     "text": [
      "Usage: cjio [OPTIONS] INPUT COMMAND1 [ARGS]... [COMMAND2 [ARGS]...]...\n",
      "\n",
      "  Process and manipulate a CityJSON file, and allow different outputs. The\n",
      "  different operators can be chained to perform several processing in one\n",
      "  step, the CityJSON model goes through the different operators.\n",
      "\n",
      "  To get help on specific command, eg for 'validate':\n",
      "\n",
      "      cjio validate --help\n",
      "\n",
      "  Usage examples:\n",
      "\n",
      "      cjio example.json info validate\n",
      "      cjio example.json assign_epsg 7145 remove_textures export output.obj\n",
      "      cjio example.json subset --id house12 save out.json\n",
      "\n",
      "Options:\n",
      "  --version                Show the version and exit.\n",
      "  --ignore_duplicate_keys  Load a CityJSON file even if some City Objects have\n",
      "                           the same IDs (technically invalid file)\n",
      "  --help                   Show this message and exit.\n",
      "\n",
      "Commands:\n",
      "  assign_epsg                Assign a (new) EPSG.\n",
      "  compress                   Compress a CityJSON file, ie stores its...\n",
      "  decompress                 Decompress a CityJSON file, ie remove the...\n",
      "  export                     Export the CityJSON to another format.\n",
      "  extract_lod                Extract only one LoD for a dataset.\n",
      "  info                       Output info in simple JSON.\n",
      "  locate_textures            Output the location of the texture files.\n",
      "  merge                      Merge the current CityJSON with others.\n",
      "  partition                  Partition the city model into tiles.\n",
      "  remove_duplicate_vertices  Remove duplicate vertices a CityJSON file.\n",
      "  remove_materials           Remove all materials from a CityJSON file.\n",
      "  remove_orphan_vertices     Remove orphan vertices a CityJSON file.\n",
      "  remove_textures            Remove all textures from a CityJSON file.\n",
      "  reproject                  Reproject the CityJSON to a new EPSG.\n",
      "  save                       Save the city model to a CityJSON file.\n",
      "  subset                     Create a subset of a CityJSON file.\n",
      "  update_bbox                Update the bbox of a CityJSON file.\n",
      "  update_textures            Update the location of the texture files.\n",
      "  upgrade_version            Upgrade the CityJSON to the latest version.\n",
      "  validate                   Validate the CityJSON file: (1) against its...\n"
     ]
    }
   ],
   "source": [
    "! cjio --help"
   ]
  },
  {
   "cell_type": "code",
   "execution_count": 4,
   "metadata": {
    "slideshow": {
     "slide_type": "subslide"
    }
   },
   "outputs": [
    {
     "name": "stdout",
     "output_type": "stream",
     "text": [
      "\u001b[30m\u001b[46mParsing data/rotterdam_subset.json\u001b[0m\n",
      "{\n",
      "  \"cityjson_version\": \"1.0\",\n",
      "  \"epsg\": 7415,\n",
      "  \"cityobjects_total\": 16,\n",
      "  \"cityobjects_present\": [\n",
      "    \"Building\"\n",
      "  ],\n",
      "  \"vertices_total\": 383,\n",
      "  \"transform/compressed\": true,\n",
      "  \"geom_primitives_present\": [\n",
      "    \"MultiSurface\"\n",
      "  ],\n",
      "  \"level_of_detail\": [\n",
      "    2\n",
      "  ],\n",
      "  \"semantics_surfaces_present\": [\n",
      "    \"GroundSurface\",\n",
      "    \"RoofSurface\",\n",
      "    \"WallSurface\"\n",
      "  ],\n",
      "  \"cityobject_attributes\": [\n",
      "    \"bron_tex\",\n",
      "    \"TerrainHeight\",\n",
      "    \"status\",\n",
      "    \"voll_tex\",\n",
      "    \"bron_geo\"\n",
      "  ],\n",
      "  \"materials\": false,\n",
      "  \"textures\": true\n",
      "}\n"
     ]
    }
   ],
   "source": [
    "! cjio data/rotterdam_subset.json info"
   ]
  },
  {
   "cell_type": "code",
   "execution_count": 5,
   "metadata": {},
   "outputs": [
    {
     "name": "stdout",
     "output_type": "stream",
     "text": [
      "\u001b[30m\u001b[46mParsing data/rotterdam_subset.json\u001b[0m\n",
      "\u001b[30m\u001b[46m===== Validation (with official CityJSON schemas) =====\u001b[0m\n",
      "-- Validating the syntax of the file\n",
      "\t(using the schemas 1.0.0)\n",
      "-- Validating the internal consistency of the file (see docs for list)\n",
      "\t--Vertex indices coherent\n",
      "\t--Specific for CityGroups\n",
      "\t--Semantic arrays coherent with geometry\n",
      "\t--Root properties\n",
      "\t--Empty geometries\n",
      "\t--Duplicate vertices\n",
      "\t--Orphan vertices\n",
      "\t--CityGML attributes\n",
      "=====\n",
      "\u001b[32mFile is valid\u001b[0m\n",
      "\u001b[31mFile has warnings\u001b[0m\n",
      "--- WARNINGS ---\n",
      "WARNING: attributes 'TerrainHeight' not in CityGML schema\n",
      "\t(16 CityObjects have this warning)\n",
      "WARNING: attributes 'bron_tex' not in CityGML schema\n",
      "\t(16 CityObjects have this warning)\n",
      "WARNING: attributes 'voll_tex' not in CityGML schema\n",
      "\t(16 CityObjects have this warning)\n",
      "WARNING: attributes 'bron_geo' not in CityGML schema\n",
      "\t(16 CityObjects have this warning)\n",
      "WARNING: attributes 'status' not in CityGML schema\n",
      "\t(16 CityObjects have this warning)\n",
      "=====================================\n"
     ]
    }
   ],
   "source": [
    "! cjio data/rotterdam_subset.json validate"
   ]
  },
  {
   "cell_type": "code",
   "execution_count": 7,
   "metadata": {
    "slideshow": {
     "slide_type": "subslide"
    }
   },
   "outputs": [
    {
     "name": "stdout",
     "output_type": "stream",
     "text": [
      "\u001b[30m\u001b[46mParsing data/rotterdam_subset.json\u001b[0m\n",
      "\u001b[30m\u001b[46mSubset of CityJSON\u001b[0m\n",
      "\u001b[30m\u001b[46mMerging files\u001b[0m\n",
      "\t{\n",
      "  \"cityjson_version\": \"1.0\",\n",
      "  \"epsg\": 28992,\n",
      "  \"cityobjects_total\": 1,\n",
      "  \"cityobjects_present\": [\n",
      "    \"Building\"\n",
      "  ],\n",
      "  \"vertices_total\": 25,\n",
      "  \"transform/compressed\": true,\n",
      "  \"geom_primitives_present\": [\n",
      "    \"MultiSurface\"\n",
      "  ],\n",
      "  \"level_of_detail\": [\n",
      "    2\n",
      "  ],\n",
      "  \"semantics_surfaces_present\": [\n",
      "    \"RoofSurface\",\n",
      "    \"GroundSurface\",\n",
      "    \"WallSurface\"\n",
      "  ],\n",
      "  \"cityobject_attributes\": [\n",
      "    \"TerrainHeight\",\n",
      "    \"voll_tex\",\n",
      "    \"bron_geo\",\n",
      "    \"bron_tex\",\n",
      "    \"status\"\n",
      "  ],\n",
      "  \"materials\": false,\n",
      "  \"textures\": true\n",
      "}\n",
      "\u001b[30m\u001b[46mReproject to EPSG:2056\u001b[0m\n",
      "\u001b[?25l  [####################################]  100%          \u001b[?25h\n",
      "\u001b[30m\u001b[46mSaving CityJSON to a file /home/balazs/Reports/talk_cjio_geopython_2019/data/test_rotterdam.json\u001b[0m\n"
     ]
    }
   ],
   "source": [
    "! cjio data/rotterdam_subset.json \\\n",
    "    subset --exclude --id \"{CD98680D-A8DD-4106-A18E-15EE2A908D75}\" \\\n",
    "    merge data/rotterdam_one.json \\\n",
    "    reproject 2056 \\\n",
    "    save data/test_rotterdam.json"
   ]
  },
  {
   "cell_type": "markdown",
   "metadata": {
    "slideshow": {
     "slide_type": "slide"
    }
   },
   "source": [
    "# `cjio`'s API"
   ]
  },
  {
   "cell_type": "markdown",
   "metadata": {
    "pycharm": {
     "name": "#%% md\n"
    },
    "slideshow": {
     "slide_type": "slide"
    }
   },
   "source": [
    "## cjio API tutorial\n",
    "\n",
    "In this tutorial we explore what is possible with `cjio`'s API. I refer to `cjio`'s command line interface as *CLI*.\n",
    "\n",
    "The CLI is what you use when you invoke `cjio` from the command line, such as:\n",
    "```\n",
    "$ cjio some_city_model.json validate\n",
    "```\n",
    "\n",
    "The API is what you use from `cjio` when working with a city model in a Python script.\n",
    "\n",
    "**You can play with the executable version of this notebook on Binder** [here](https://mybinder.org/v2/gh/tudelft3d/cjio/develop?filepath=docs%2Fsource%2Fcjio_tutorial.ipynb)"
   ]
  },
  {
   "cell_type": "code",
   "execution_count": 1,
   "metadata": {
    "pycharm": {
     "is_executing": false
    }
   },
   "outputs": [],
   "source": [
    "import os\n",
    "from copy import deepcopy\n",
    "from cjio import cityjson"
   ]
  },
  {
   "cell_type": "markdown",
   "metadata": {
    "pycharm": {
     "name": "#%% md\n"
    }
   },
   "source": [
    "Set up the paths for the tutorial."
   ]
  },
  {
   "cell_type": "code",
   "execution_count": 6,
   "metadata": {
    "pycharm": {
     "is_executing": false,
     "name": "#%%\n"
    }
   },
   "outputs": [],
   "source": [
    "schema_dir = os.path.join(package_dir, 'cjio', 'schemas', '1.0.0')\n",
    "data_dir = os.path.join('data')"
   ]
  },
  {
   "cell_type": "markdown",
   "metadata": {
    "pycharm": {
     "name": "#%% md\n"
    },
    "slideshow": {
     "slide_type": "slide"
    }
   },
   "source": [
    "## Load the city model"
   ]
  },
  {
   "cell_type": "markdown",
   "metadata": {
    "pycharm": {
     "name": "#%% md\n"
    },
    "slideshow": {
     "slide_type": "fragment"
    }
   },
   "source": [
    "We are working with a subset of the city model of Rotterdam. This file is included with `cjio` as an example data set. We can use the online CityJSON viewer at [viewer.cityjson.org](https://viewer.cityjson.org) to quickly visualise the city model.\n",
    "![](../figures/rotterdam_subset.png)"
   ]
  },
  {
   "cell_type": "markdown",
   "metadata": {
    "pycharm": {
     "name": "#%% md\n"
    },
    "slideshow": {
     "slide_type": "fragment"
    }
   },
   "source": [
    "The `load()` method loads a CityJSON file into a CityJSON object."
   ]
  },
  {
   "cell_type": "code",
   "execution_count": 7,
   "metadata": {
    "pycharm": {
     "is_executing": false,
     "name": "#%%\n"
    }
   },
   "outputs": [
    {
     "name": "stdout",
     "output_type": "stream",
     "text": [
      "<class 'cjio.cityjson.CityJSON'>\n"
     ]
    }
   ],
   "source": [
    "p_subset = os.path.join(data_dir, 'rotterdam', 'rotterdam_subset.json')\n",
    "cm_r = cityjson.load(p_subset)\n",
    "print(type(cm_r))"
   ]
  },
  {
   "cell_type": "markdown",
   "metadata": {
    "slideshow": {
     "slide_type": "slide"
    }
   },
   "source": [
    "## Using the CLI commands in the API\n",
    "You can use any of the CLI commands on a CityJSON object. However, not all CLI commands are mapped 1-to-1 to CityJSON methods, plus you need to provide the parameters yourself, as for example in case of the `validate()` method. The reason for this is that the CLI commands are wrapper functions that take care of passing parameters and parsing outputs. And we haven't harmonized the CLI and the API yet. "
   ]
  },
  {
   "cell_type": "code",
   "execution_count": 8,
   "metadata": {
    "pycharm": {
     "is_executing": false,
     "name": "#%%\n"
    },
    "slideshow": {
     "slide_type": "subslide"
    }
   },
   "outputs": [
    {
     "name": "stdout",
     "output_type": "stream",
     "text": [
      "-- Validating the syntax of the file\n",
      "\t(using the schemas ../../cjio/schemas/1.0.0/cityjson.schema.json)\n",
      "-- Validating the internal consistency of the file (see docs for list)\n",
      "\t--Vertex indices coherent\n",
      "\t--Specific for CityGroups\n",
      "\t--Semantic arrays coherent with geometry\n",
      "\t--Root properties\n",
      "\t--Empty geometries\n",
      "\t--Duplicate vertices\n",
      "\t--Orphan vertices\n",
      "\t--CityGML attributes\n"
     ]
    },
    {
     "data": {
      "text/plain": [
       "(True,\n",
       " False,\n",
       " [],\n",
       " [\"WARNING: attributes 'TerrainHeight' not in CityGML schema\",\n",
       "  '\\t(16 CityObjects have this warning)',\n",
       "  \"WARNING: attributes 'bron_tex' not in CityGML schema\",\n",
       "  '\\t(16 CityObjects have this warning)',\n",
       "  \"WARNING: attributes 'voll_tex' not in CityGML schema\",\n",
       "  '\\t(16 CityObjects have this warning)',\n",
       "  \"WARNING: attributes 'bron_geo' not in CityGML schema\",\n",
       "  '\\t(16 CityObjects have this warning)',\n",
       "  \"WARNING: attributes 'status' not in CityGML schema\",\n",
       "  '\\t(16 CityObjects have this warning)'])"
      ]
     },
     "execution_count": 8,
     "metadata": {},
     "output_type": "execute_result"
    }
   ],
   "source": [
    "cm_r.validate(folder_schemas=schema_dir)"
   ]
  },
  {
   "cell_type": "markdown",
   "metadata": {
    "pycharm": {
     "name": "#%% md\n"
    },
    "slideshow": {
     "slide_type": "slide"
    }
   },
   "source": [
    "## Explore the city model"
   ]
  },
  {
   "cell_type": "markdown",
   "metadata": {
    "pycharm": {
     "name": "#%% md\n"
    },
    "slideshow": {
     "slide_type": "subslide"
    }
   },
   "source": [
    "We can print the basic information about the city model. Note that `print()` returns the same information as the `info` command in the CLI."
   ]
  },
  {
   "cell_type": "code",
   "execution_count": 9,
   "metadata": {
    "pycharm": {
     "is_executing": false,
     "name": "#%%\n"
    },
    "slideshow": {
     "slide_type": "subslide"
    }
   },
   "outputs": [
    {
     "name": "stdout",
     "output_type": "stream",
     "text": [
      "{\n",
      "  \"cityjson_version\": \"1.0\",\n",
      "  \"epsg\": 7415,\n",
      "  \"cityobjects_total\": 16,\n",
      "  \"cityobjects_present\": [\n",
      "    \"Building\"\n",
      "  ],\n",
      "  \"vertices_total\": 383,\n",
      "  \"transform/compressed\": true,\n",
      "  \"geom_primitives_present\": [\n",
      "    \"MultiSurface\"\n",
      "  ],\n",
      "  \"level_of_detail\": [\n",
      "    2\n",
      "  ],\n",
      "  \"semantics_surfaces_present\": [\n",
      "    \"GroundSurface\",\n",
      "    \"RoofSurface\",\n",
      "    \"WallSurface\"\n",
      "  ],\n",
      "  \"cityobject_attributes\": [\n",
      "    \"voll_tex\",\n",
      "    \"TerrainHeight\",\n",
      "    \"bron_tex\",\n",
      "    \"bron_geo\",\n",
      "    \"status\"\n",
      "  ],\n",
      "  \"materials\": false,\n",
      "  \"textures\": true\n",
      "}\n"
     ]
    }
   ],
   "source": [
    "print(cm_r)"
   ]
  },
  {
   "cell_type": "markdown",
   "metadata": {
    "pycharm": {
     "name": "#%% md\n"
    },
    "slideshow": {
     "slide_type": "slide"
    }
   },
   "source": [
    "## Working with the objects in the model\n",
    "### Getting objects from the model\n",
    "We can get CityObjects by their *type*, or a list of types. Also by their IDs. If no type or ID is provided, `get_cityobjects()` returns all of them, which is equivalent to `cm_r.cityobjects`."
   ]
  },
  {
   "cell_type": "code",
   "execution_count": 10,
   "metadata": {
    "pycharm": {
     "is_executing": false,
     "name": "#%%\n"
    },
    "slideshow": {
     "slide_type": "subslide"
    }
   },
   "outputs": [],
   "source": [
    "buildings = cm_r.get_cityobjects(type='building')\n",
    "buildings_parts = cm_r.get_cityobjects(type=['building', 'buildingpart'])\n",
    "\n",
    "r_ids = ['{C9D4A5CF-094A-47DA-97E4-4A3BFD75D3AE}',\n",
    "         '{6271F75F-E8D8-4EE4-AC46-9DB02771A031}']\n",
    "buildings_ids = cm_r.get_cityobjects(id=r_ids)"
   ]
  },
  {
   "cell_type": "markdown",
   "metadata": {
    "pycharm": {
     "name": "#%% md\n"
    },
    "slideshow": {
     "slide_type": "subslide"
    }
   },
   "source": [
    "### Getting the properties and geometry of objects"
   ]
  },
  {
   "cell_type": "code",
   "execution_count": 11,
   "metadata": {
    "pycharm": {
     "is_executing": false,
     "name": "#%%\n"
    }
   },
   "outputs": [
    {
     "name": "stdout",
     "output_type": "stream",
     "text": [
      "{\n",
      "  \"id\": \"{C9D4A5CF-094A-47DA-97E4-4A3BFD75D3AE}\",\n",
      "  \"type\": \"Building\",\n",
      "  \"attributes\": {\n",
      "    \"TerrainHeight\": 3.03,\n",
      "    \"bron_tex\": \"UltraCAM-X 10cm juni 2008\",\n",
      "    \"voll_tex\": \"complete\",\n",
      "    \"bron_geo\": \"Lidar 15-30 punten - nov. 2008\",\n",
      "    \"status\": \"1\"\n",
      "  },\n",
      "  \"children\": null,\n",
      "  \"parents\": null,\n",
      "  \"geometry_type\": [\n",
      "    \"MultiSurface\"\n",
      "  ],\n",
      "  \"geometry_lod\": [\n",
      "    2\n",
      "  ],\n",
      "  \"semantic_surfaces\": [\n",
      "    \"GroundSurface\",\n",
      "    \"RoofSurface\",\n",
      "    \"WallSurface\"\n",
      "  ]\n",
      "}\n"
     ]
    }
   ],
   "source": [
    "b01 = buildings_ids['{C9D4A5CF-094A-47DA-97E4-4A3BFD75D3AE}']\n",
    "print(b01)"
   ]
  },
  {
   "cell_type": "markdown",
   "metadata": {
    "pycharm": {
     "name": "#%% md\n"
    }
   },
   "source": [
    "The attributes are stored as a dictionary"
   ]
  },
  {
   "cell_type": "code",
   "execution_count": 12,
   "metadata": {
    "pycharm": {
     "is_executing": false,
     "name": "#%%\n"
    }
   },
   "outputs": [
    {
     "data": {
      "text/plain": [
       "{'TerrainHeight': 3.03,\n",
       " 'bron_tex': 'UltraCAM-X 10cm juni 2008',\n",
       " 'voll_tex': 'complete',\n",
       " 'bron_geo': 'Lidar 15-30 punten - nov. 2008',\n",
       " 'status': '1'}"
      ]
     },
     "execution_count": 12,
     "metadata": {},
     "output_type": "execute_result"
    }
   ],
   "source": [
    "b01.attributes"
   ]
  },
  {
   "cell_type": "markdown",
   "metadata": {
    "pycharm": {
     "name": "#%% md\n"
    }
   },
   "source": [
    "CityObjects can have *children* and *parents*"
   ]
  },
  {
   "cell_type": "code",
   "execution_count": 13,
   "metadata": {
    "pycharm": {
     "is_executing": false,
     "name": "#%%\n"
    }
   },
   "outputs": [
    {
     "data": {
      "text/plain": [
       "True"
      ]
     },
     "execution_count": 13,
     "metadata": {},
     "output_type": "execute_result"
    }
   ],
   "source": [
    "b01.children is None and b01.parents is None"
   ]
  },
  {
   "cell_type": "markdown",
   "metadata": {
    "pycharm": {
     "name": "#%% md\n"
    }
   },
   "source": [
    "CityObject geometry is a list of `Geometry` objects. That is because a CityObject can have multiple geometry representations in different levels of detail, eg. a geometry in LoD1 and a second geometry in LoD2."
   ]
  },
  {
   "cell_type": "code",
   "execution_count": 14,
   "metadata": {
    "pycharm": {
     "is_executing": false,
     "name": "#%%\n"
    }
   },
   "outputs": [
    {
     "data": {
      "text/plain": [
       "[<cjio.models.Geometry at 0x7efec2ba2748>]"
      ]
     },
     "execution_count": 14,
     "metadata": {},
     "output_type": "execute_result"
    }
   ],
   "source": [
    "b01.geometry"
   ]
  },
  {
   "cell_type": "code",
   "execution_count": 15,
   "metadata": {
    "pycharm": {
     "is_executing": false,
     "name": "#%%\n"
    }
   },
   "outputs": [
    {
     "name": "stdout",
     "output_type": "stream",
     "text": [
      "MultiSurface, lod 2\n"
     ]
    }
   ],
   "source": [
    "geom = b01.geometry[0]\n",
    "print(\"{}, lod {}\".format(geom.type, geom.lod))"
   ]
  },
  {
   "cell_type": "markdown",
   "metadata": {
    "pycharm": {
     "name": "#%% md\n"
    }
   },
   "source": [
    "### Geometry boundaries and Semantic Surfaces\n",
    "On the contrary to a CityJSON file, the geometry boundaries are dereferenced when working with the API. This means that the vertex coordinates are included in the boundary definition, not only the vertex indices.\n",
    "\n",
    "`cjio` doesn't provide specific geometry classes (yet), eg. MultiSurface or Solid class. If you are working with the geometry boundaries, you need to the geometric operations yourself, or cast the boundary to a geometry-class of some other library. For example `shapely` if 2D is enough."
   ]
  },
  {
   "cell_type": "code",
   "execution_count": 16,
   "metadata": {
    "pycharm": {
     "is_executing": false,
     "name": "#%%\n"
    }
   },
   "outputs": [
    {
     "data": {
      "text/plain": [
       "[[579471, 198217, 10652],\n",
       " [578109, 202330, 10652],\n",
       " [577149, 200650, 10652],\n",
       " [576461, 200406, 10652],\n",
       " [577481, 197515, 10652]]"
      ]
     },
     "execution_count": 16,
     "metadata": {},
     "output_type": "execute_result"
    }
   ],
   "source": [
    "# get the first surface\n",
    "geom.boundaries[0][0]"
   ]
  },
  {
   "cell_type": "markdown",
   "metadata": {
    "pycharm": {
     "name": "#%% md\n"
    }
   },
   "source": [
    "Semantic Surfaces are stored in a similar fashion as in a CityJSON file, in the `surfaces` attribute of a Geometry object."
   ]
  },
  {
   "cell_type": "code",
   "execution_count": 17,
   "metadata": {
    "pycharm": {
     "is_executing": false,
     "name": "#%%\n"
    }
   },
   "outputs": [
    {
     "data": {
      "text/plain": [
       "{0: {'surface_idx': [[0], [1], [2]], 'type': 'RoofSurface'},\n",
       " 1: {'surface_idx': [[3]], 'type': 'GroundSurface'},\n",
       " 2: {'surface_idx': [[4],\n",
       "   [5],\n",
       "   [6],\n",
       "   [7],\n",
       "   [8],\n",
       "   [9],\n",
       "   [10],\n",
       "   [11],\n",
       "   [12],\n",
       "   [13],\n",
       "   [14],\n",
       "   [15],\n",
       "   [16],\n",
       "   [17],\n",
       "   [18],\n",
       "   [19]],\n",
       "  'type': 'WallSurface'}}"
      ]
     },
     "execution_count": 17,
     "metadata": {},
     "output_type": "execute_result"
    }
   ],
   "source": [
    "geom.surfaces"
   ]
  },
  {
   "cell_type": "markdown",
   "metadata": {
    "pycharm": {
     "name": "#%% md\n"
    }
   },
   "source": [
    "The main difference is the presence of the `surface_idx` property. The `surface_idx` is used by the `get_surface_boundaries()` method to efficiently extract the relevant geometry boundaries."
   ]
  },
  {
   "cell_type": "code",
   "execution_count": 18,
   "metadata": {
    "pycharm": {
     "is_executing": false,
     "name": "#%%\n"
    }
   },
   "outputs": [
    {
     "data": {
      "text/plain": [
       "{0: {'surface_idx': [[0], [1], [2]], 'type': 'RoofSurface'}}"
      ]
     },
     "execution_count": 18,
     "metadata": {},
     "output_type": "execute_result"
    }
   ],
   "source": [
    "roofs = geom.get_surfaces(type='roofsurface')\n",
    "roofs"
   ]
  },
  {
   "cell_type": "code",
   "execution_count": 19,
   "metadata": {
    "pycharm": {
     "is_executing": false,
     "name": "#%%\n"
    }
   },
   "outputs": [
    {
     "data": {
      "text/plain": [
       "[[[[[579471, 198217, 10652],\n",
       "    [578109, 202330, 10652],\n",
       "    [577149, 200650, 10652],\n",
       "    [576461, 200406, 10652],\n",
       "    [577481, 197515, 10652]]],\n",
       "  [[[580840, 194082, 15211],\n",
       "    [579471, 198217, 15211],\n",
       "    [577481, 197515, 15211],\n",
       "    [576461, 200406, 15211],\n",
       "    [572239, 198909, 15211],\n",
       "    [571839, 200119, 15211],\n",
       "    [571503, 201071, 15211],\n",
       "    [566651, 199359, 15211],\n",
       "    [569801, 190223, 15211],\n",
       "    [573253, 191430, 15211],\n",
       "    [574658, 191922, 15211]]],\n",
       "  [[[565589, 202439, 11036],\n",
       "    [566651, 199359, 11036],\n",
       "    [571503, 201071, 11036],\n",
       "    [571839, 200119, 11036],\n",
       "    [573299, 200640, 11036],\n",
       "    [572089, 204029, 11036],\n",
       "    [570629, 203440, 11036],\n",
       "    [570379, 204150, 11036]]]]]"
      ]
     },
     "execution_count": 19,
     "metadata": {},
     "output_type": "execute_result"
    }
   ],
   "source": [
    "roof_boundaries = []\n",
    "for r in roofs.values():\n",
    "    roof_boundaries.append(geom.get_surface_boundaries(r))\n",
    "roof_boundaries"
   ]
  },
  {
   "cell_type": "markdown",
   "metadata": {
    "pycharm": {
     "name": "#%% md\n"
    }
   },
   "source": [
    "### Assigning attributes to Semantic Surfaces\n",
    "In order to change or assign an attribute to the SemanticSurfaces of a CityObject we need to,\n",
    "\n",
    "1. extract the surfaces,\n",
    "2. make the changes on the surface,\n",
    "3. overwrite the CityObjects with the changes."
   ]
  },
  {
   "cell_type": "code",
   "execution_count": 20,
   "metadata": {
    "pycharm": {
     "is_executing": false,
     "name": "#%%\n"
    }
   },
   "outputs": [],
   "source": [
    "cm = deepcopy(cm_r)\n",
    "new_cos = {}\n",
    "for co_id, co in cm.cityobjects.items():\n",
    "    new_geoms = []\n",
    "    for geom in co.geometry:\n",
    "        # Only LoD >= 2 models have semantic surfaces\n",
    "        if geom.lod >= 2.0:\n",
    "            # Extract the surfaces\n",
    "            roofsurfaces = geom.get_surfaces('roofsurface')\n",
    "            for i, rsrf in roofsurfaces.items():\n",
    "                # Change the attributes\n",
    "                if 'attributes' in rsrf.keys():\n",
    "                    rsrf['attributes']['cladding'] = 'tiles'\n",
    "                else:\n",
    "                    rsrf['attributes'] = {}\n",
    "                    rsrf['attributes']['cladding'] = 'tiles'\n",
    "                geom.surfaces[i] = rsrf\n",
    "            new_geoms.append(geom)\n",
    "        else:\n",
    "            # Use the unchanged geometry\n",
    "            new_geoms.append(geom)\n",
    "    co.geometry = new_geoms\n",
    "    new_cos[co_id] = co\n",
    "# Overwrite the CityObjects\n",
    "cm.cityobjects = new_cos"
   ]
  },
  {
   "cell_type": "markdown",
   "metadata": {},
   "source": [
    "### Create new Semantic Surfaces\n",
    "The process is similar as previously. However, in this example we create new SemanticSurfaces that hold the values which we compute from the geometry. The input city model has a single semantic \"WallSurface\", without attributes, for all the walls of a building. The snippet below illustrates how to separate surfaces and assign the semantics to them."
   ]
  },
  {
   "cell_type": "code",
   "execution_count": 21,
   "metadata": {
    "pycharm": {
     "is_executing": false,
     "name": "#%%\n"
    }
   },
   "outputs": [],
   "source": [
    "new_cos = {}\n",
    "\n",
    "for co_id, co in cm.cityobjects.items():\n",
    "    new_geoms = []\n",
    "    \n",
    "    for geom in co.geometry:\n",
    "        if geom.lod >= 2.0:\n",
    "            max_id = max(geom.surfaces.keys())\n",
    "            old_ids = []\n",
    "            \n",
    "            for w_i, wsrf in geom.get_surfaces('wallsurface').items():\n",
    "                old_ids.append(w_i)\n",
    "                del geom.surfaces[w_i]\n",
    "                boundaries = geom.get_surface_boundaries(wsrf)\n",
    "                \n",
    "                for j, boundary_geometry in enumerate(boundaries):\n",
    "                    # The original geometry has the same Semantic for all wall, \n",
    "                    # but we want to divide the wall surfaces by their orientation, \n",
    "                    # thus we need to have the correct surface index\n",
    "                    surface_index = wsrf['surface_idx'][j]\n",
    "                    new_srf = {\n",
    "                        'type': wsrf['type'],\n",
    "                        'surface_idx': surface_index\n",
    "                    }\n",
    "                    \n",
    "                    for multisurface in boundary_geometry:\n",
    "                        # Do any operation here\n",
    "                        x, y, z = multisurface[0]\n",
    "                        if j % 2 > 0:\n",
    "                            orientation = 'north'\n",
    "                        else:\n",
    "                            orientation = 'south'\n",
    "                        \n",
    "                        # Add the new attribute to the surface \n",
    "                        if 'attributes' in wsrf.keys():\n",
    "                            wsrf['attributes']['orientation'] = orientation\n",
    "                        else:\n",
    "                            wsrf['attributes'] = {}\n",
    "                            wsrf['attributes']['orientation'] = orientation\n",
    "                        \n",
    "                        new_srf['attributes'] = wsrf['attributes']\n",
    "                        \n",
    "                        # if w_i in geom.surfaces.keys():\n",
    "                        #     del geom.surfaces[w_i]\n",
    "                        \n",
    "                        max_id = max_id + 1\n",
    "                        geom.surfaces[max_id] = new_srf\n",
    "                        \n",
    "            new_geoms.append(geom)\n",
    "            \n",
    "        else:\n",
    "            # If LoD1, just add the geometry unchanged\n",
    "            new_geoms.append(geom)\n",
    "            \n",
    "    co.geometry = new_geoms\n",
    "    new_cos[co_id] = co\n",
    "    \n",
    "cm.cityobjects = new_cos"
   ]
  },
  {
   "cell_type": "markdown",
   "metadata": {
    "pycharm": {
     "name": "#%% md\n"
    }
   },
   "source": [
    "## Save or Export\n",
    "At the end, the `save()` method saves the edited city model into a CityJSON file."
   ]
  },
  {
   "cell_type": "code",
   "execution_count": 22,
   "metadata": {
    "pycharm": {
     "is_executing": false,
     "name": "#%%\n"
    }
   },
   "outputs": [],
   "source": [
    "p_out = os.path.join(data_dir, 'test_output.json')\n",
    "cityjson.save(cm, p_out)"
   ]
  },
  {
   "cell_type": "markdown",
   "metadata": {
    "pycharm": {
     "name": "#%% md\n"
    }
   },
   "source": [
    "It is also possible to export the city model into a pandas DataFrame. Note that only the CityObject attributes are exported into the dataframe, with CityObject IDs as the index of the dataframe. Thus if you want to export the attributes of SemanticSurfaces for example, then you need to add them as CityObject attributes."
   ]
  },
  {
   "cell_type": "code",
   "execution_count": 23,
   "metadata": {
    "pycharm": {
     "is_executing": false,
     "name": "#%%\n"
    }
   },
   "outputs": [],
   "source": [
    "new_cos = {}\n",
    "for co_id, co in cm.cityobjects.items():\n",
    "    for geom in co.geometry:\n",
    "        for srf in geom.surfaces.values():\n",
    "            if 'attributes' in srf:\n",
    "                for attr,a_v in srf['attributes'].items():\n",
    "                    if (attr not in co.attributes) or (co.attributes[attr] is None):\n",
    "                        co.attributes[attr] = [a_v]\n",
    "                    else:\n",
    "                        co.attributes[attr].append(a_v)\n",
    "    new_cos[co_id] = co\n",
    "cm.cityobjects = new_cos"
   ]
  },
  {
   "cell_type": "code",
   "execution_count": 24,
   "metadata": {
    "pycharm": {
     "is_executing": false,
     "name": "#%%\n"
    }
   },
   "outputs": [
    {
     "data": {
      "text/html": [
       "<div>\n",
       "<style scoped>\n",
       "    .dataframe tbody tr th:only-of-type {\n",
       "        vertical-align: middle;\n",
       "    }\n",
       "\n",
       "    .dataframe tbody tr th {\n",
       "        vertical-align: top;\n",
       "    }\n",
       "\n",
       "    .dataframe thead th {\n",
       "        text-align: right;\n",
       "    }\n",
       "</style>\n",
       "<table border=\"1\" class=\"dataframe\">\n",
       "  <thead>\n",
       "    <tr style=\"text-align: right;\">\n",
       "      <th></th>\n",
       "      <th>TerrainHeight</th>\n",
       "      <th>bron_geo</th>\n",
       "      <th>bron_tex</th>\n",
       "      <th>cladding</th>\n",
       "      <th>orientation</th>\n",
       "      <th>status</th>\n",
       "      <th>voll_tex</th>\n",
       "    </tr>\n",
       "  </thead>\n",
       "  <tbody>\n",
       "    <tr>\n",
       "      <th>{C9D4A5CF-094A-47DA-97E4-4A3BFD75D3AE}</th>\n",
       "      <td>3.03</td>\n",
       "      <td>Lidar 15-30 punten - nov. 2008</td>\n",
       "      <td>UltraCAM-X 10cm juni 2008</td>\n",
       "      <td>[tiles]</td>\n",
       "      <td>[north, north, north, north, north, north, nor...</td>\n",
       "      <td>1</td>\n",
       "      <td>complete</td>\n",
       "    </tr>\n",
       "    <tr>\n",
       "      <th>{71B60053-BC28-404D-BAB9-8A642AAC0CF4}</th>\n",
       "      <td>2.68</td>\n",
       "      <td>Lidar 15-30 punten - nov. 2008</td>\n",
       "      <td>UltraCAM-X 10cm juni 2008</td>\n",
       "      <td>[tiles]</td>\n",
       "      <td>[north, north, north, north, north, north, nor...</td>\n",
       "      <td>1</td>\n",
       "      <td>complete</td>\n",
       "    </tr>\n",
       "    <tr>\n",
       "      <th>{6271F75F-E8D8-4EE4-AC46-9DB02771A031}</th>\n",
       "      <td>3.12</td>\n",
       "      <td>Lidar 15-30 punten - nov. 2008</td>\n",
       "      <td>UltraCAM-X 10cm juni 2008</td>\n",
       "      <td>[tiles]</td>\n",
       "      <td>[north, north, north, north, north, north, nor...</td>\n",
       "      <td>1</td>\n",
       "      <td>complete</td>\n",
       "    </tr>\n",
       "    <tr>\n",
       "      <th>{DE77E78F-B110-43D2-A55C-8B61911192DE}</th>\n",
       "      <td>2.88</td>\n",
       "      <td>Lidar 15-30 punten - nov. 2008</td>\n",
       "      <td>UltraCAM-X 10cm juni 2008</td>\n",
       "      <td>[tiles]</td>\n",
       "      <td>[north, north, north, north, north, north, nor...</td>\n",
       "      <td>1</td>\n",
       "      <td>complete</td>\n",
       "    </tr>\n",
       "    <tr>\n",
       "      <th>{19935DFC-F7B3-4D6E-92DD-C48EE1D1519A}</th>\n",
       "      <td>2.82</td>\n",
       "      <td>Lidar 15-30 punten - nov. 2008</td>\n",
       "      <td>UltraCAM-X 10cm juni 2008</td>\n",
       "      <td>[tiles]</td>\n",
       "      <td>[south, south, south, south, south, south, sou...</td>\n",
       "      <td>1</td>\n",
       "      <td>complete</td>\n",
       "    </tr>\n",
       "  </tbody>\n",
       "</table>\n",
       "</div>"
      ],
      "text/plain": [
       "                                        TerrainHeight  \\\n",
       "{C9D4A5CF-094A-47DA-97E4-4A3BFD75D3AE}           3.03   \n",
       "{71B60053-BC28-404D-BAB9-8A642AAC0CF4}           2.68   \n",
       "{6271F75F-E8D8-4EE4-AC46-9DB02771A031}           3.12   \n",
       "{DE77E78F-B110-43D2-A55C-8B61911192DE}           2.88   \n",
       "{19935DFC-F7B3-4D6E-92DD-C48EE1D1519A}           2.82   \n",
       "\n",
       "                                                              bron_geo  \\\n",
       "{C9D4A5CF-094A-47DA-97E4-4A3BFD75D3AE}  Lidar 15-30 punten - nov. 2008   \n",
       "{71B60053-BC28-404D-BAB9-8A642AAC0CF4}  Lidar 15-30 punten - nov. 2008   \n",
       "{6271F75F-E8D8-4EE4-AC46-9DB02771A031}  Lidar 15-30 punten - nov. 2008   \n",
       "{DE77E78F-B110-43D2-A55C-8B61911192DE}  Lidar 15-30 punten - nov. 2008   \n",
       "{19935DFC-F7B3-4D6E-92DD-C48EE1D1519A}  Lidar 15-30 punten - nov. 2008   \n",
       "\n",
       "                                                         bron_tex cladding  \\\n",
       "{C9D4A5CF-094A-47DA-97E4-4A3BFD75D3AE}  UltraCAM-X 10cm juni 2008  [tiles]   \n",
       "{71B60053-BC28-404D-BAB9-8A642AAC0CF4}  UltraCAM-X 10cm juni 2008  [tiles]   \n",
       "{6271F75F-E8D8-4EE4-AC46-9DB02771A031}  UltraCAM-X 10cm juni 2008  [tiles]   \n",
       "{DE77E78F-B110-43D2-A55C-8B61911192DE}  UltraCAM-X 10cm juni 2008  [tiles]   \n",
       "{19935DFC-F7B3-4D6E-92DD-C48EE1D1519A}  UltraCAM-X 10cm juni 2008  [tiles]   \n",
       "\n",
       "                                                                              orientation  \\\n",
       "{C9D4A5CF-094A-47DA-97E4-4A3BFD75D3AE}  [north, north, north, north, north, north, nor...   \n",
       "{71B60053-BC28-404D-BAB9-8A642AAC0CF4}  [north, north, north, north, north, north, nor...   \n",
       "{6271F75F-E8D8-4EE4-AC46-9DB02771A031}  [north, north, north, north, north, north, nor...   \n",
       "{DE77E78F-B110-43D2-A55C-8B61911192DE}  [north, north, north, north, north, north, nor...   \n",
       "{19935DFC-F7B3-4D6E-92DD-C48EE1D1519A}  [south, south, south, south, south, south, sou...   \n",
       "\n",
       "                                       status  voll_tex  \n",
       "{C9D4A5CF-094A-47DA-97E4-4A3BFD75D3AE}      1  complete  \n",
       "{71B60053-BC28-404D-BAB9-8A642AAC0CF4}      1  complete  \n",
       "{6271F75F-E8D8-4EE4-AC46-9DB02771A031}      1  complete  \n",
       "{DE77E78F-B110-43D2-A55C-8B61911192DE}      1  complete  \n",
       "{19935DFC-F7B3-4D6E-92DD-C48EE1D1519A}      1  complete  "
      ]
     },
     "execution_count": 24,
     "metadata": {},
     "output_type": "execute_result"
    }
   ],
   "source": [
    "df = cm.to_dataframe()\n",
    "df.head()"
   ]
  },
  {
   "cell_type": "markdown",
   "metadata": {
    "pycharm": {
     "name": "#%% md\n"
    }
   },
   "source": []
  }
 ],
 "metadata": {
  "celltoolbar": "Slideshow",
  "kernelspec": {
   "display_name": "Python 3",
   "language": "python",
   "name": "python3"
  },
  "language_info": {
   "codemirror_mode": {
    "name": "ipython",
    "version": 3
   },
   "file_extension": ".py",
   "mimetype": "text/x-python",
   "name": "python",
   "nbconvert_exporter": "python",
   "pygments_lexer": "ipython3",
   "version": "3.6.8"
  },
  "pycharm": {
   "stem_cell": {
    "cell_type": "raw",
    "metadata": {
     "collapsed": false
    },
    "source": []
   }
  }
 },
 "nbformat": 4,
 "nbformat_minor": 2
}
